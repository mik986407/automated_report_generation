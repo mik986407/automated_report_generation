{
 "cells": [
  {
   "cell_type": "code",
   "execution_count": 1,
   "id": "3d0dc29e",
   "metadata": {},
   "outputs": [
    {
     "data": {
      "application/javascript": [
       "IPython.notebook.set_autosave_interval(120000)"
      ]
     },
     "metadata": {},
     "output_type": "display_data"
    },
    {
     "name": "stdout",
     "output_type": "stream",
     "text": [
      "Autosaving every 120 seconds\n"
     ]
    }
   ],
   "source": [
    "#!/usr/bin/env python3\n",
    "# -*- coding: utf-8 -*-\n",
    "import os, time, string\n",
    "import pandas as pd\n",
    "import warnings\n",
    "import openpyxl\n",
    "import numpy as np\n",
    "from openpyxl.utils import get_column_letter\n",
    "warnings.filterwarnings('ignore')\n",
    "%autosave 120"
   ]
  },
  {
   "cell_type": "markdown",
   "id": "32f88987",
   "metadata": {},
   "source": [
    "### 產出玩具資料"
   ]
  },
  {
   "cell_type": "code",
   "execution_count": 2,
   "id": "331764bc",
   "metadata": {},
   "outputs": [],
   "source": [
    "# 玩具資料1 欄位：身份證號、性別、就醫年份、年齡層\n",
    "n = 1000\n",
    "year1 = ['2020','2021','2022']\n",
    "year_t = list(np.random.choice(list(year1),n,replace = True))\n",
    "\n",
    "age1 = ['0-4','5-11','12-17','18-65']\n",
    "age_t = list(np.random.choice(list(age1),n,replace = True))\n",
    "\n",
    "id1 = list(np.random.randint(100000000,299999999,n))\n",
    "id2 = list(np.random.choice(list(string.ascii_uppercase),n,replace = True))\n",
    "id3 = [id2[i] + str(id1[i]) for i in range(n)]\n",
    "\n",
    "sex1 = ['男','女']\n",
    "sex_t = ['男' if i[1] == '1' else '女' for i  in id3]\n",
    "\n",
    "dict1 = {'身份證號':id3,'性別':sex_t,'就醫年份':year_t,'年齡層':age_t}\n",
    "df = pd.DataFrame(dict1)\n",
    "df1 = df.copy()\n",
    "\n",
    "# 玩具資料2 欄位：身份證號、縣市、區域\n",
    "county = ['01基隆市','02臺北市','03新北市','04宜蘭縣','05金門縣','06連江縣','07桃園市','08新竹市','09新竹縣','10苗栗縣','11台中市','12南投縣','13彰化縣','14雲林縣','15嘉義市','16嘉義縣','17台南市','18高雄市','19屏東縣','20澎湖縣','21花蓮縣','22台東縣'] \n",
    "col1_data = np.random.choice(county, 1000, replace=True) #縣市\n",
    "col2_data = id3 #身份證\n",
    "dict2 = {'身份證號':id3,'縣市':col1_data}\n",
    "df = pd.DataFrame(dict2)\n",
    "df2 = df.copy()\n",
    "def define_region(x):\n",
    "    if x in ['01基隆市','02臺北市','03新北市','04宜蘭縣','05金門縣','06連江縣']:\n",
    "        return('01台北區')\n",
    "    elif x in ['07桃園市','08新竹市','09新竹縣','10苗栗縣']:\n",
    "        return('02北區')\n",
    "    elif x in ['11台中市','12南投縣','13彰化縣']:\n",
    "        return('03中區')\n",
    "    elif x in ['14雲林縣','15嘉義市','16嘉義縣','17台南市']:\n",
    "        return('04南區')\n",
    "    elif x in ['18高雄市','19屏東縣','20澎湖縣']:\n",
    "        return('05高屏區')\n",
    "    elif x in ['21花蓮縣','22台東縣']:\n",
    "        return('06東區')\n",
    "    \n",
    "df2['區域'] = df2['縣市'].apply(define_region)"
   ]
  },
  {
   "cell_type": "code",
   "execution_count": 5,
   "id": "d7f21364",
   "metadata": {},
   "outputs": [
    {
     "data": {
      "text/html": [
       "<div>\n",
       "<style scoped>\n",
       "    .dataframe tbody tr th:only-of-type {\n",
       "        vertical-align: middle;\n",
       "    }\n",
       "\n",
       "    .dataframe tbody tr th {\n",
       "        vertical-align: top;\n",
       "    }\n",
       "\n",
       "    .dataframe thead th {\n",
       "        text-align: right;\n",
       "    }\n",
       "</style>\n",
       "<table border=\"1\" class=\"dataframe\">\n",
       "  <thead>\n",
       "    <tr style=\"text-align: right;\">\n",
       "      <th></th>\n",
       "      <th>身份證號</th>\n",
       "      <th>縣市</th>\n",
       "      <th>區域</th>\n",
       "    </tr>\n",
       "  </thead>\n",
       "  <tbody>\n",
       "    <tr>\n",
       "      <th>0</th>\n",
       "      <td>J164570883</td>\n",
       "      <td>09新竹縣</td>\n",
       "      <td>02北區</td>\n",
       "    </tr>\n",
       "    <tr>\n",
       "      <th>1</th>\n",
       "      <td>M271744653</td>\n",
       "      <td>18高雄市</td>\n",
       "      <td>05高屏區</td>\n",
       "    </tr>\n",
       "    <tr>\n",
       "      <th>2</th>\n",
       "      <td>Z174718127</td>\n",
       "      <td>04宜蘭縣</td>\n",
       "      <td>01台北區</td>\n",
       "    </tr>\n",
       "    <tr>\n",
       "      <th>3</th>\n",
       "      <td>J227102825</td>\n",
       "      <td>16嘉義縣</td>\n",
       "      <td>04南區</td>\n",
       "    </tr>\n",
       "    <tr>\n",
       "      <th>4</th>\n",
       "      <td>I130533355</td>\n",
       "      <td>05金門縣</td>\n",
       "      <td>01台北區</td>\n",
       "    </tr>\n",
       "    <tr>\n",
       "      <th>...</th>\n",
       "      <td>...</td>\n",
       "      <td>...</td>\n",
       "      <td>...</td>\n",
       "    </tr>\n",
       "    <tr>\n",
       "      <th>995</th>\n",
       "      <td>R209940653</td>\n",
       "      <td>01基隆市</td>\n",
       "      <td>01台北區</td>\n",
       "    </tr>\n",
       "    <tr>\n",
       "      <th>996</th>\n",
       "      <td>E293639891</td>\n",
       "      <td>15嘉義市</td>\n",
       "      <td>04南區</td>\n",
       "    </tr>\n",
       "    <tr>\n",
       "      <th>997</th>\n",
       "      <td>O255357111</td>\n",
       "      <td>22台東縣</td>\n",
       "      <td>06東區</td>\n",
       "    </tr>\n",
       "    <tr>\n",
       "      <th>998</th>\n",
       "      <td>Z228848123</td>\n",
       "      <td>07桃園市</td>\n",
       "      <td>02北區</td>\n",
       "    </tr>\n",
       "    <tr>\n",
       "      <th>999</th>\n",
       "      <td>Z208734482</td>\n",
       "      <td>20澎湖縣</td>\n",
       "      <td>05高屏區</td>\n",
       "    </tr>\n",
       "  </tbody>\n",
       "</table>\n",
       "<p>1000 rows × 3 columns</p>\n",
       "</div>"
      ],
      "text/plain": [
       "           身份證號     縣市     區域\n",
       "0    J164570883  09新竹縣   02北區\n",
       "1    M271744653  18高雄市  05高屏區\n",
       "2    Z174718127  04宜蘭縣  01台北區\n",
       "3    J227102825  16嘉義縣   04南區\n",
       "4    I130533355  05金門縣  01台北區\n",
       "..          ...    ...    ...\n",
       "995  R209940653  01基隆市  01台北區\n",
       "996  E293639891  15嘉義市   04南區\n",
       "997  O255357111  22台東縣   06東區\n",
       "998  Z228848123  07桃園市   02北區\n",
       "999  Z208734482  20澎湖縣  05高屏區\n",
       "\n",
       "[1000 rows x 3 columns]"
      ]
     },
     "execution_count": 5,
     "metadata": {},
     "output_type": "execute_result"
    }
   ],
   "source": [
    "df2"
   ]
  },
  {
   "cell_type": "code",
   "execution_count": 3,
   "id": "5c9aac12",
   "metadata": {},
   "outputs": [],
   "source": [
    "# 將df2 轉為樞紐表 df2_pivot_table 並除去縣市及區域的數字 例如： 01台北區 -> 台北區\n",
    "df2_pivot_table = df2.pivot_table(index=['區域', '縣市'], values='身份證號',aggfunc='count')\n",
    "df2_ind = df2_pivot_table.index\n",
    "df2_ind_new = [(i[0][2:],i[1][2:]) for i in df2_ind]\n",
    "df2_index = pd.MultiIndex.from_tuples(df2_ind_new, names=[\"區域\", \"縣市\"])\n",
    "df2_pivot_table.index = df2_index\n",
    "df2_pivot_table['身份證號'] = df2_pivot_table['身份證號'].apply(lambda x: x/1000)\n",
    "df2_pivot_table['平均']=round(df2_pivot_table['身份證號'].mean(),3)\n",
    "df_tmp = pd.DataFrame({\n",
    "    \"身份證號\": [1],\n",
    "    \"平均\": [1]\n",
    "}, index=[('總計','')])\n",
    "# Add specific row/index name using DataFrame.loc[]\n",
    "df2_pivot_table = df2_pivot_table.append(df_tmp)\n",
    "# display(df2_pivot_table)"
   ]
  },
  {
   "cell_type": "code",
   "execution_count": 4,
   "id": "feea2f14",
   "metadata": {},
   "outputs": [
    {
     "data": {
      "text/html": [
       "<div>\n",
       "<style scoped>\n",
       "    .dataframe tbody tr th:only-of-type {\n",
       "        vertical-align: middle;\n",
       "    }\n",
       "\n",
       "    .dataframe tbody tr th {\n",
       "        vertical-align: top;\n",
       "    }\n",
       "\n",
       "    .dataframe thead th {\n",
       "        text-align: right;\n",
       "    }\n",
       "</style>\n",
       "<table border=\"1\" class=\"dataframe\">\n",
       "  <thead>\n",
       "    <tr style=\"text-align: right;\">\n",
       "      <th></th>\n",
       "      <th></th>\n",
       "      <th>身份證號</th>\n",
       "      <th>平均</th>\n",
       "    </tr>\n",
       "    <tr>\n",
       "      <th>區域</th>\n",
       "      <th>縣市</th>\n",
       "      <th></th>\n",
       "      <th></th>\n",
       "    </tr>\n",
       "  </thead>\n",
       "  <tbody>\n",
       "    <tr>\n",
       "      <th rowspan=\"6\" valign=\"top\">台北區</th>\n",
       "      <th>基隆市</th>\n",
       "      <td>0.061</td>\n",
       "      <td>0.045</td>\n",
       "    </tr>\n",
       "    <tr>\n",
       "      <th>臺北市</th>\n",
       "      <td>0.045</td>\n",
       "      <td>0.045</td>\n",
       "    </tr>\n",
       "    <tr>\n",
       "      <th>新北市</th>\n",
       "      <td>0.042</td>\n",
       "      <td>0.045</td>\n",
       "    </tr>\n",
       "    <tr>\n",
       "      <th>宜蘭縣</th>\n",
       "      <td>0.049</td>\n",
       "      <td>0.045</td>\n",
       "    </tr>\n",
       "    <tr>\n",
       "      <th>金門縣</th>\n",
       "      <td>0.051</td>\n",
       "      <td>0.045</td>\n",
       "    </tr>\n",
       "    <tr>\n",
       "      <th>連江縣</th>\n",
       "      <td>0.049</td>\n",
       "      <td>0.045</td>\n",
       "    </tr>\n",
       "    <tr>\n",
       "      <th rowspan=\"4\" valign=\"top\">北區</th>\n",
       "      <th>桃園市</th>\n",
       "      <td>0.031</td>\n",
       "      <td>0.045</td>\n",
       "    </tr>\n",
       "    <tr>\n",
       "      <th>新竹市</th>\n",
       "      <td>0.059</td>\n",
       "      <td>0.045</td>\n",
       "    </tr>\n",
       "    <tr>\n",
       "      <th>新竹縣</th>\n",
       "      <td>0.043</td>\n",
       "      <td>0.045</td>\n",
       "    </tr>\n",
       "    <tr>\n",
       "      <th>苗栗縣</th>\n",
       "      <td>0.048</td>\n",
       "      <td>0.045</td>\n",
       "    </tr>\n",
       "    <tr>\n",
       "      <th rowspan=\"3\" valign=\"top\">中區</th>\n",
       "      <th>台中市</th>\n",
       "      <td>0.046</td>\n",
       "      <td>0.045</td>\n",
       "    </tr>\n",
       "    <tr>\n",
       "      <th>南投縣</th>\n",
       "      <td>0.033</td>\n",
       "      <td>0.045</td>\n",
       "    </tr>\n",
       "    <tr>\n",
       "      <th>彰化縣</th>\n",
       "      <td>0.050</td>\n",
       "      <td>0.045</td>\n",
       "    </tr>\n",
       "    <tr>\n",
       "      <th rowspan=\"4\" valign=\"top\">南區</th>\n",
       "      <th>雲林縣</th>\n",
       "      <td>0.050</td>\n",
       "      <td>0.045</td>\n",
       "    </tr>\n",
       "    <tr>\n",
       "      <th>嘉義市</th>\n",
       "      <td>0.039</td>\n",
       "      <td>0.045</td>\n",
       "    </tr>\n",
       "    <tr>\n",
       "      <th>嘉義縣</th>\n",
       "      <td>0.055</td>\n",
       "      <td>0.045</td>\n",
       "    </tr>\n",
       "    <tr>\n",
       "      <th>台南市</th>\n",
       "      <td>0.033</td>\n",
       "      <td>0.045</td>\n",
       "    </tr>\n",
       "    <tr>\n",
       "      <th rowspan=\"3\" valign=\"top\">高屏區</th>\n",
       "      <th>高雄市</th>\n",
       "      <td>0.044</td>\n",
       "      <td>0.045</td>\n",
       "    </tr>\n",
       "    <tr>\n",
       "      <th>屏東縣</th>\n",
       "      <td>0.039</td>\n",
       "      <td>0.045</td>\n",
       "    </tr>\n",
       "    <tr>\n",
       "      <th>澎湖縣</th>\n",
       "      <td>0.045</td>\n",
       "      <td>0.045</td>\n",
       "    </tr>\n",
       "    <tr>\n",
       "      <th rowspan=\"2\" valign=\"top\">東區</th>\n",
       "      <th>花蓮縣</th>\n",
       "      <td>0.039</td>\n",
       "      <td>0.045</td>\n",
       "    </tr>\n",
       "    <tr>\n",
       "      <th>台東縣</th>\n",
       "      <td>0.049</td>\n",
       "      <td>0.045</td>\n",
       "    </tr>\n",
       "    <tr>\n",
       "      <th>總計</th>\n",
       "      <th></th>\n",
       "      <td>1.000</td>\n",
       "      <td>1.000</td>\n",
       "    </tr>\n",
       "  </tbody>\n",
       "</table>\n",
       "</div>"
      ],
      "text/plain": [
       "          身份證號     平均\n",
       "區域  縣市               \n",
       "台北區 基隆市  0.061  0.045\n",
       "    臺北市  0.045  0.045\n",
       "    新北市  0.042  0.045\n",
       "    宜蘭縣  0.049  0.045\n",
       "    金門縣  0.051  0.045\n",
       "    連江縣  0.049  0.045\n",
       "北區  桃園市  0.031  0.045\n",
       "    新竹市  0.059  0.045\n",
       "    新竹縣  0.043  0.045\n",
       "    苗栗縣  0.048  0.045\n",
       "中區  台中市  0.046  0.045\n",
       "    南投縣  0.033  0.045\n",
       "    彰化縣  0.050  0.045\n",
       "南區  雲林縣  0.050  0.045\n",
       "    嘉義市  0.039  0.045\n",
       "    嘉義縣  0.055  0.045\n",
       "    台南市  0.033  0.045\n",
       "高屏區 高雄市  0.044  0.045\n",
       "    屏東縣  0.039  0.045\n",
       "    澎湖縣  0.045  0.045\n",
       "東區  花蓮縣  0.039  0.045\n",
       "    台東縣  0.049  0.045\n",
       "總計       1.000  1.000"
      ]
     },
     "metadata": {},
     "output_type": "display_data"
    }
   ],
   "source": [
    "display(df2_pivot_table)"
   ]
  },
  {
   "cell_type": "code",
   "execution_count": 7,
   "id": "0447ae04",
   "metadata": {},
   "outputs": [],
   "source": [
    "# 儲存df2_pivot_table 至 eccel檔\n",
    "address_test = r'D:\\Users\\mik986407\\py_data\\hiv_output\\測試2.xlsx'\n",
    "df2_pivot_table.to_excel(address_test)"
   ]
  },
  {
   "cell_type": "markdown",
   "id": "f24025f8",
   "metadata": {},
   "source": [
    "### 畫圖1： 以 openpyxl 繪圖（舊版）\n",
    " 參考網站： https://openpyxl.readthedocs.io/en/stable/charts/introduction.html#"
   ]
  },
  {
   "cell_type": "code",
   "execution_count": 9,
   "id": "66a36761",
   "metadata": {},
   "outputs": [],
   "source": [
    "from openpyxl.chart import (\n",
    "    Reference,\n",
    "    Series,\n",
    "    BarChart,\n",
    "    LineChart\n",
    ")\n",
    "\n",
    "#匯入資料\n",
    "address_test = r'D:\\Users\\mik986407\\py_data\\hiv_output\\測試2.xlsx'\n",
    "wb = openpyxl.load_workbook(address_test)# 開啟 Excel 檔案\n",
    "sheetnames = wb.sheetnames\n",
    "s1 = wb[sheetnames[0]]\n",
    "\n",
    "#定義資料範圍\n",
    "data = Reference(s1, min_col=3, min_row=1, max_row=23)\n",
    "titles = Reference(s1, min_col=1, min_row=2,max_col=2 ,max_row=23)\n",
    "chart = BarChart()\n",
    "\n",
    "#畫圖\n",
    "chart.title = \"Bar Chart\"\n",
    "chart.type = \"col\"\n",
    "chart.style = 4\n",
    "chart.add_data(data=data, titles_from_data=True)\n",
    "chart.set_categories(titles)\n",
    "chart.legend.position = 'b'\n",
    "c1 = chart\n",
    "# Create a second chart\n",
    "c2 = LineChart()\n",
    "v2 = Reference(s1, min_col=4, min_row=2, max_row=23)\n",
    "c2.add_data(v2, titles_from_data=False)\n",
    "s2 = c2.series[0]\n",
    "s2.graphicalProperties.line.solidFill = \"FF0000\"\n",
    "s2.graphicalProperties.line.dashStyle = \"sysDot\"\n",
    "c1 += c2\n",
    "\n",
    "s1.add_chart(c1, \"G1\")\n",
    "wb.save(address_test)"
   ]
  },
  {
   "cell_type": "markdown",
   "id": "4c87589c",
   "metadata": {},
   "source": [
    "### 畫圖2 :以 xlsxwriter 繪圖 （新版）\n",
    " 參考網站： https://xlsxwriter.readthedocs.io/index.html"
   ]
  },
  {
   "cell_type": "code",
   "execution_count": 30,
   "id": "99117e67",
   "metadata": {},
   "outputs": [],
   "source": [
    "import xlsxwriter"
   ]
  },
  {
   "cell_type": "code",
   "execution_count": 35,
   "id": "dff7de4e",
   "metadata": {},
   "outputs": [],
   "source": [
    "def plot_chart(workbook,sheet_name,color):\n",
    "    # Create a new bar chart.\n",
    "    chart = workbook.add_chart({'type': 'column'})\n",
    "    # Configure the first series.\n",
    "    chart.add_series({\n",
    "        'name':       '={}!$C$1'.format(sheet_name),\n",
    "        'categories': '={}!$A$2:$B$23'.format(sheet_name),\n",
    "        'values':     '={}!$C$2:$C$23'.format(sheet_name),\n",
    "        'fill':   {'color': '{}'.format(color)}\n",
    "    })\n",
    "    # Add a chart title and some axis labels in sheet1.\n",
    "    chart.set_title ({'name': 'Results of sample analysis'})\n",
    "    chart.set_x_axis({'name': ''})\n",
    "    chart.set_y_axis({'name': ''})\n",
    "    # Create a secondary chart.\n",
    "    line_chart = workbook.add_chart({'type': 'line'})\n",
    "    custom_labels = [\n",
    "        {'delete': True},{'delete': True},{'delete': True},{'delete': True},{'delete': True},{'delete': True},\n",
    "        {'delete': True},{'delete': True},{'delete': True},{'delete': True},{'delete': True},{'delete': True},\n",
    "        {'delete': True},{'delete': True},{'delete': True},{'delete': True},{'delete': True},{'delete': True},\n",
    "        {'delete': True},{'delete': True},{'delete': True},None\n",
    "    ]\n",
    "    line_chart.add_series({\n",
    "    #     'name':       '=Sheet1!$D$1',\n",
    "    #     'categories': '=Sheet1!$A$2:$B$23',\n",
    "        'values':     '={}!$D$2:$D$23'.format(sheet_name),\n",
    "        'data_labels': {'value': True, 'custom': custom_labels},\n",
    "        'line':   {'dash_type': 'dash','width': 1.25,'color': 'red'}\n",
    "\n",
    "    })\n",
    "    # Combine the charts.\n",
    "    chart.combine(line_chart)\n",
    "    # Set an Excel chart style.\n",
    "    chart.set_x_axis({'major_tick_mark': 'none'})\n",
    "    chart.set_y_axis({'major_tick_mark': 'none','line': {'none': True},'num_format':'0%'})\n",
    "    chart.set_style(5)\n",
    "    chart.set_legend({'position': 'bottom','delete_series': [1]})\n",
    "    return(chart)"
   ]
  },
  {
   "cell_type": "code",
   "execution_count": 37,
   "id": "39d09405",
   "metadata": {},
   "outputs": [],
   "source": [
    "# Create a Pandas Excel writer using XlsxWriter as the engine.\n",
    "writer = pd.ExcelWriter(r'D:\\Users\\mik986407\\py_data\\hiv_output\\pivot_table_simple.xlsx', engine='xlsxwriter')\n",
    "\n",
    "# Convert the dataframe to an XlsxWriter Excel object.\n",
    "sheet_name = 'Sheet1'\n",
    "sheet_name2 = 'Sheet2'\n",
    "df2_pivot_table.to_excel(writer, sheet_name=sheet_name)\n",
    "df2_pivot_table.to_excel(writer, sheet_name=sheet_name2)\n",
    "\n",
    "# Access the XlsxWriter workbook and worksheet objects from the dataframe.\n",
    "workbook  = writer.book\n",
    "worksheet = writer.sheets[sheet_name]\n",
    "# Write a conditional format over a range.\n",
    "# Add a format1.\n",
    "format1 = workbook.add_format({'font_color': '#9C0006'})\n",
    "worksheet.conditional_format('C2:C23', {'type': 'cell',\n",
    "                                         'criteria': '>=',\n",
    "                                         'value': 0.045,\n",
    "                                         'format': format1})\n",
    "# Add a percent number format.\n",
    "percent_format = workbook.add_format({'num_format': '0.0%'})\n",
    "\n",
    "# Apply the number format to C,D columns.\n",
    "worksheet.set_column('C:D', 23, percent_format)\n",
    "\n",
    "sheet1_chart1 = plot_chart(workbook,sheet_name,'#FF9900')\n",
    "sheet1_chart2 = plot_chart(workbook,sheet_name,'#007979')\n",
    "sheet1_chart3 = plot_chart(workbook,sheet_name,'#00BB00')\n",
    "sheet1_chart4 = plot_chart(workbook,sheet_name,'#E1E100')\n",
    "# Insert the chart into the worksheet (with an offset).\n",
    "worksheet.insert_chart('F2', sheet1_chart1, {'x_scale': 1, 'y_scale': 0.75})\n",
    "worksheet.insert_chart('U2', sheet1_chart2, {'x_scale': 1, 'y_scale': 0.75})\n",
    "worksheet.insert_chart('F24', sheet1_chart3, {'x_scale': 1, 'y_scale': 0.75})\n",
    "worksheet.insert_chart('U24', sheet1_chart4, {'x_scale': 1, 'y_scale': 0.75})\n",
    "#--------------------------------------------------------------------------------\n",
    "# Access the XlsxWriter workbook and worksheet2 objects from the dataframe.\n",
    "worksheet2 = writer.sheets[sheet_name2]\n",
    "# Write a conditional format over a range.\n",
    "# Add a format1.\n",
    "format1 = workbook.add_format({'font_color': '#9C0006'})\n",
    "worksheet2.conditional_format('C2:C23', {'type': 'cell',\n",
    "                                         'criteria': '>=',\n",
    "                                         'value': 0.045,\n",
    "                                         'format': format1})\n",
    "\n",
    "# Add a percent number format.\n",
    "percent_format = workbook.add_format({'num_format': '0.0%'})\n",
    "\n",
    "# Apply the number format to C,D columns.\n",
    "worksheet2.set_column('C:D', 23, percent_format)\n",
    "\n",
    "sheet2_chart1 = plot_chart(workbook,sheet_name,'#AD5A5A')\n",
    "sheet2_chart2 = plot_chart(workbook,sheet_name,'#BB5E00')\n",
    "sheet2_chart3 = plot_chart(workbook,sheet_name,'#9F4D95')\n",
    "sheet2_chart4 = plot_chart(workbook,sheet_name,'#A8FF24')\n",
    "# Insert the chart into the worksheet (with an offset).\n",
    "worksheet2.insert_chart('F2', sheet2_chart1, {'x_scale': 1, 'y_scale': 0.75})\n",
    "worksheet2.insert_chart('U2', sheet2_chart2, {'x_scale': 1, 'y_scale': 0.75})\n",
    "worksheet2.insert_chart('F24', sheet2_chart3, {'x_scale': 1, 'y_scale': 0.75})\n",
    "worksheet2.insert_chart('U24', sheet2_chart4, {'x_scale': 1, 'y_scale': 0.75})\n",
    "writer.close()"
   ]
  },
  {
   "cell_type": "code",
   "execution_count": null,
   "id": "5dad0cd0",
   "metadata": {},
   "outputs": [],
   "source": [
    "writer.close()"
   ]
  },
  {
   "cell_type": "markdown",
   "id": "b625b94b",
   "metadata": {},
   "source": [
    "### 畫圖3 以seaborn考慮(測試中)"
   ]
  },
  {
   "cell_type": "code",
   "execution_count": 6,
   "id": "cf10b93e",
   "metadata": {},
   "outputs": [],
   "source": [
    "import seaborn as sns"
   ]
  },
  {
   "cell_type": "code",
   "execution_count": 7,
   "id": "6ed5f92f",
   "metadata": {},
   "outputs": [],
   "source": [
    "df_test = sns.load_dataset(\"titanic\")"
   ]
  },
  {
   "cell_type": "code",
   "execution_count": 20,
   "id": "5ab95bf5",
   "metadata": {
    "scrolled": true
   },
   "outputs": [
    {
     "data": {
      "text/plain": [
       "<seaborn.axisgrid.FacetGrid at 0x21a38ca3ac0>"
      ]
     },
     "execution_count": 20,
     "metadata": {},
     "output_type": "execute_result"
    }
   ],
   "source": [
    "df_test1 = df_test[['age','class']]\n",
    "df_test1\n",
    "sns.catplot(data=df_test1, x=\"age\", y=\"class\", kind=\"box\")"
   ]
  },
  {
   "cell_type": "code",
   "execution_count": 29,
   "id": "79a78301",
   "metadata": {},
   "outputs": [],
   "source": [
    "df_test2 = df_test[['who','survived','age','class']]"
   ]
  },
  {
   "cell_type": "code",
   "execution_count": 26,
   "id": "ff243af0",
   "metadata": {},
   "outputs": [],
   "source": [
    "df2\n",
    "df2['累計'] = 1"
   ]
  },
  {
   "cell_type": "code",
   "execution_count": 22,
   "id": "83db2b5f",
   "metadata": {},
   "outputs": [],
   "source": [
    "sns.catplot(\n",
    "    data=df_test, x=\"who\", y=\"survived\", col=\"class\",\n",
    "    kind=\"bar\", height=4, aspect=.6\n",
    ")\n",
    "g.set_axis_labels(\"\", \"Survival Rate\")\n",
    "g.set_xticklabels([\"Men\", \"Women\", \"Children\"])\n",
    "g.set_titles(\"{col_name} {col_var}\")\n",
    "g.set(ylim=(0, 1))\n",
    "g.despine(left=True)\n",
    "g.figure.savefig(r\"D:\\Users\\mik986407\\py_data\\hiv_output\\hiv_plot\\out.png\")\n",
    "# fig.savefig(r\"D:\\Users\\mik986407\\py_data\\hiv_output\\hiv_plot\\out.png\") "
   ]
  },
  {
   "cell_type": "code",
   "execution_count": 28,
   "id": "6e59dc02",
   "metadata": {},
   "outputs": [],
   "source": [
    "g1=sns.catplot(\n",
    "    data=df2, x=\"縣市\", y=\"累計\", col=\"區域\",\n",
    "    kind=\"bar\", height=4, aspect=.6\n",
    ")\n",
    "# g.set_axis_labels(\"\", \"Survival Rate\")\n",
    "# g.set_xticklabels([\"Men\", \"Women\", \"Children\"])\n",
    "# g.set_titles(\"{col_name} {col_var}\")\n",
    "# g.set(ylim=(0, 1))\n",
    "# g.despine(left=True)\n",
    "g1.figure.savefig(r\"D:\\Users\\mik986407\\py_data\\hiv_output\\hiv_plot\\out2.png\")"
   ]
  },
  {
   "cell_type": "markdown",
   "id": "44e6af5a",
   "metadata": {},
   "source": [
    "### 嘗試修改ppt裡table的text值"
   ]
  },
  {
   "cell_type": "code",
   "execution_count": 14,
   "id": "2302d468",
   "metadata": {
    "collapsed": true
   },
   "outputs": [
    {
     "name": "stdout",
     "output_type": "stream",
     "text": [
      "Collecting python-pptx\n",
      "  Downloading python-pptx-0.6.21.tar.gz (10.1 MB)\n",
      "     ---------------------------------------- 10.1/10.1 MB 6.6 MB/s eta 0:00:00\n",
      "  Preparing metadata (setup.py): started\n",
      "  Preparing metadata (setup.py): finished with status 'done'\n",
      "Requirement already satisfied: lxml>=3.1.0 in d:\\users\\mik986407\\anaconda3\\lib\\site-packages (from python-pptx) (4.9.1)\n",
      "Requirement already satisfied: Pillow>=3.3.2 in d:\\users\\mik986407\\anaconda3\\lib\\site-packages (from python-pptx) (9.2.0)\n",
      "Requirement already satisfied: XlsxWriter>=0.5.7 in d:\\users\\mik986407\\anaconda3\\lib\\site-packages (from python-pptx) (3.0.3)\n",
      "Building wheels for collected packages: python-pptx\n",
      "  Building wheel for python-pptx (setup.py): started\n",
      "  Building wheel for python-pptx (setup.py): finished with status 'done'\n",
      "  Created wheel for python-pptx: filename=python_pptx-0.6.21-py3-none-any.whl size=470935 sha256=809b92bbe2d0a13a8fb7d7a1f3899a75db8197b68ad438b8a74bdc253a8caaf4\n",
      "  Stored in directory: d:\\users\\mik986407\\appdata\\local\\pip\\cache\\wheels\\0e\\4a\\ed\\9653bc799915f52dce3f04d14946fbd85cce9c3cdedc9cfa71\n",
      "Successfully built python-pptx\n",
      "Installing collected packages: python-pptx\n",
      "Successfully installed python-pptx-0.6.21\n"
     ]
    }
   ],
   "source": [
    "!pip install python-pptx"
   ]
  },
  {
   "cell_type": "code",
   "execution_count": 15,
   "id": "89d96f2d",
   "metadata": {},
   "outputs": [
    {
     "name": "stdout",
     "output_type": "stream",
     "text": [
      "修改完畢\n"
     ]
    }
   ],
   "source": [
    "from pptx import Presentation\n",
    "from pptx.enum.text import PP_ALIGN\n",
    "from pptx.util import Pt\n",
    "from pptx.dml.color import ColorFormat, RGBColor\n",
    "\n",
    "\n",
    "prs = Presentation(r'D:\\Users\\mik986407\\py_data\\hiv_output\\111-12組務會議.pptx')\n",
    "slide = prs.slides[1] #first slide\n",
    "for i in slide.shapes:\n",
    "    if i.has_table:\n",
    "        i.table.cell(1,2).text  = '4'\n",
    "        a  = i.table.cell(1,2).text_frame.paragraphs[0]\n",
    "        a.font.size = Pt(12)\n",
    "        a.font.color.rgb = RGBColor(255, 0, 0)\n",
    "        a.alignment = PP_ALIGN.RIGHT\n",
    "            \n",
    "\n",
    "prs.save(r'D:\\Users\\mik986407\\py_data\\hiv_output\\111-12組務會議.pptx')\n",
    "print('修改完畢')"
   ]
  },
  {
   "cell_type": "code",
   "execution_count": null,
   "id": "1743c9a5",
   "metadata": {},
   "outputs": [],
   "source": [
    "prs = Presentation(r'D:\\Users\\mik986407\\py_data\\hiv_output\\111-12組務會議.pptx')\n",
    "slide = prs.slides[1] #first slide\n",
    "for i in slide.shapes:\n",
    "    if i.has_table:\n",
    "        print(i.table.cell(7,0).text)"
   ]
  },
  {
   "cell_type": "markdown",
   "id": "5a3d3e65",
   "metadata": {},
   "source": [
    "### 將excel圖表匯入ppt"
   ]
  },
  {
   "cell_type": "code",
   "execution_count": 47,
   "id": "4c79bd27",
   "metadata": {},
   "outputs": [],
   "source": [
    "# 進階版(測試)將同一分頁的excel圖物件匯入至ppt\n",
    "import os\n",
    "import win32com.client as client\n",
    "from win32com.client import constants        \n",
    "\n",
    "xl = client.gencache.EnsureDispatch('Excel.Application')\n",
    "ppt = client.gencache.EnsureDispatch('PowerPoint.Application')\n",
    "\n",
    "wb = xl.Workbooks.Open(os.path.abspath(r'D:\\Users\\mik986407\\py_data\\hiv_output\\pivot_table_simple.xlsx'))\n",
    "prs = ppt.Presentations.Open(os.path.abspath(r\"D:\\Users\\mik986407\\py_data\\hiv_output\\111-12組務會議.pptx\"))\n",
    "\n",
    "sheet = wb.Sheets('Sheet1')\n",
    "\n",
    "\n",
    "Slide = prs.Slides.Add(prs.Slides.Count+1,constants.ppLayoutBlank) #選擇黏貼圖表至最後一頁\n",
    "# 設定黏貼的位置\n",
    "Left_inch = [100,500,100,500]\n",
    "Top_inch = [100,100,250,250]\n",
    "i = 0\n",
    "for ch in sheet.ChartObjects():\n",
    "    ch.Activate()\n",
    "    ch.Copy()\n",
    "    shp = Slide.Shapes.PasteSpecial(constants.ppPasteShape)\n",
    "    shp.Left = Left_inch[i]\n",
    "    shp.Top = Top_inch[i]\n",
    "    i += 1\n",
    "    \n",
    "prs.Save()\n",
    "prs.Close()   \n",
    "wb.Close(False)\n",
    "\n",
    "ppt.Quit()\n",
    "xl.Quit()"
   ]
  },
  {
   "cell_type": "code",
   "execution_count": 43,
   "id": "4c38a04b",
   "metadata": {
    "collapsed": true
   },
   "outputs": [
    {
     "ename": "com_error",
     "evalue": "(-2147417848, '用戶端中斷了已啟動物件的連線。', None, None)",
     "output_type": "error",
     "traceback": [
      "\u001b[1;31m---------------------------------------------------------------------------\u001b[0m",
      "\u001b[1;31mcom_error\u001b[0m                                 Traceback (most recent call last)",
      "\u001b[1;32m~\\AppData\\Local\\Temp\\1\\ipykernel_14296\\677354752.py\u001b[0m in \u001b[0;36m<module>\u001b[1;34m\u001b[0m\n\u001b[1;32m----> 1\u001b[1;33m \u001b[0mppt\u001b[0m\u001b[1;33m.\u001b[0m\u001b[0mQuit\u001b[0m\u001b[1;33m(\u001b[0m\u001b[1;33m)\u001b[0m\u001b[1;33m\u001b[0m\u001b[1;33m\u001b[0m\u001b[0m\n\u001b[0m\u001b[0;32m      2\u001b[0m \u001b[0mxl\u001b[0m\u001b[1;33m.\u001b[0m\u001b[0mQuit\u001b[0m\u001b[1;33m(\u001b[0m\u001b[1;33m)\u001b[0m\u001b[1;33m\u001b[0m\u001b[1;33m\u001b[0m\u001b[0m\n",
      "\u001b[1;32mD:\\Users\\MIK986~1\\AppData\\Local\\Temp\\1\\gen_py\\3.9\\91493440-5A91-11CF-8700-00AA0060263Bx0x2x12\\_Application.py\u001b[0m in \u001b[0;36mQuit\u001b[1;34m(self)\u001b[0m\n\u001b[0;32m     79\u001b[0m \u001b[1;33m\u001b[0m\u001b[0m\n\u001b[0;32m     80\u001b[0m         \u001b[1;32mdef\u001b[0m \u001b[0mQuit\u001b[0m\u001b[1;33m(\u001b[0m\u001b[0mself\u001b[0m\u001b[1;33m)\u001b[0m\u001b[1;33m:\u001b[0m\u001b[1;33m\u001b[0m\u001b[1;33m\u001b[0m\u001b[0m\n\u001b[1;32m---> 81\u001b[1;33m                 \u001b[1;32mreturn\u001b[0m \u001b[0mself\u001b[0m\u001b[1;33m.\u001b[0m\u001b[0m_oleobj_\u001b[0m\u001b[1;33m.\u001b[0m\u001b[0mInvokeTypes\u001b[0m\u001b[1;33m(\u001b[0m\u001b[1;36m2021\u001b[0m\u001b[1;33m,\u001b[0m \u001b[0mLCID\u001b[0m\u001b[1;33m,\u001b[0m \u001b[1;36m1\u001b[0m\u001b[1;33m,\u001b[0m \u001b[1;33m(\u001b[0m\u001b[1;36m24\u001b[0m\u001b[1;33m,\u001b[0m \u001b[1;36m0\u001b[0m\u001b[1;33m)\u001b[0m\u001b[1;33m,\u001b[0m \u001b[1;33m(\u001b[0m\u001b[1;33m)\u001b[0m\u001b[1;33m,\u001b[0m\u001b[1;33m)\u001b[0m\u001b[1;33m\u001b[0m\u001b[1;33m\u001b[0m\u001b[0m\n\u001b[0m\u001b[0;32m     82\u001b[0m \u001b[1;33m\u001b[0m\u001b[0m\n\u001b[0;32m     83\u001b[0m         \u001b[1;32mdef\u001b[0m \u001b[0mRun\u001b[0m\u001b[1;33m(\u001b[0m\u001b[0mself\u001b[0m\u001b[1;33m,\u001b[0m \u001b[1;33m*\u001b[0m\u001b[0margs\u001b[0m\u001b[1;33m)\u001b[0m\u001b[1;33m:\u001b[0m\u001b[1;33m\u001b[0m\u001b[1;33m\u001b[0m\u001b[0m\n",
      "\u001b[1;31mcom_error\u001b[0m: (-2147417848, '用戶端中斷了已啟動物件的連線。', None, None)"
     ]
    }
   ],
   "source": [
    "ppt.Quit()\n",
    "xl.Quit()"
   ]
  },
  {
   "cell_type": "code",
   "execution_count": 8,
   "id": "6c12ce08",
   "metadata": {},
   "outputs": [
    {
     "data": {
      "text/plain": [
       "'D:\\\\Users\\\\mik986407\\\\python_code\\\\hiv專案'"
      ]
     },
     "execution_count": 8,
     "metadata": {},
     "output_type": "execute_result"
    }
   ],
   "source": [
    "os.getcwd()"
   ]
  },
  {
   "cell_type": "code",
   "execution_count": 11,
   "id": "b9215938",
   "metadata": {},
   "outputs": [
    {
     "name": "stdout",
     "output_type": "stream",
     "text": [
      "D:\\Users\\mik986407\\py_data\\hiv_output\n"
     ]
    }
   ],
   "source": [
    "os.chdir(r'D:\\Users\\mik986407\\py_data\\hiv_output')"
   ]
  },
  {
   "cell_type": "markdown",
   "id": "59ec0f43",
   "metadata": {},
   "source": [
    "### 將excel 圖物件匯出為png圖檔"
   ]
  },
  {
   "cell_type": "code",
   "execution_count": 63,
   "id": "902c67f8",
   "metadata": {},
   "outputs": [],
   "source": [
    "import win32com.client\n",
    "import PIL\n",
    "from PIL import ImageGrab, Image\n",
    "import os\n",
    "import sys\n",
    "\n",
    "inputExcelFilePath = r'D:\\Users\\mik986407\\py_data\\hiv_output\\pivot_table_simple.xlsx'\n",
    "outputPNGImagePath = r'D:\\Users\\mik986407\\py_data\\hiv_output\\\\'\n",
    "\n",
    "# This function extracts a graph from the input excel file and saves it into the specified PNG image path (overwrites the given PNG image)\n",
    "def saveExcelGraphAsPNG(inputExcelFilePath, outputPNGImagePath):\n",
    "    # Open the excel application using win32com\n",
    "    o = win32com.client.Dispatch(\"Excel.Application\")\n",
    "    # Disable alerts and visibility to the user\n",
    "    o.Visible = 0\n",
    "    o.DisplayAlerts = 0\n",
    "    # Open workbook\n",
    "    wb = o.Workbooks.Open(inputExcelFilePath)\n",
    "\n",
    "    # Extract first sheet\n",
    "    sheet = o.Sheets(1)\n",
    "    for n, shape in enumerate(sheet.Shapes):\n",
    "        # Save shape to clipboard, then save what is in the clipboard to the file\n",
    "        shape.Copy()\n",
    "        image = ImageGrab.grabclipboard()\n",
    "        length_x, width_y = image.size\n",
    "        size = int(factor * length_x), int(factor * width_y)\n",
    "        image_resize = image.resize(size, Image.ANTIALIAS)\n",
    "        # Saves the image into the existing png file (overwriting) TODO ***** Have try except?\n",
    "        outputPNGImage = outputPNGImagePath + str(n) + '.png'\n",
    "        image_resize.save(outputPNGImage, 'png', quality=95, dpi=(300, 300))\n",
    "        pass\n",
    "    pass\n",
    "\n",
    "    wb.Close(True)\n",
    "    o.Quit()\n",
    "factor = 1\n",
    "saveExcelGraphAsPNG(inputExcelFilePath, outputPNGImagePath)"
   ]
  },
  {
   "cell_type": "markdown",
   "id": "b301dd5e",
   "metadata": {},
   "source": [
    "# 將Excel 的 table 黏貼至 ppt(不好用)"
   ]
  },
  {
   "cell_type": "code",
   "execution_count": null,
   "id": "f0dcb8f3",
   "metadata": {},
   "outputs": [],
   "source": [
    "import win32com.client\n",
    "\n",
    "# 打开Excel文件\n",
    "excel = win32com.client.Dispatch('Excel.Application')\n",
    "workbook = excel.Workbooks.Open(r'D:\\Users\\mik986407\\python_code\\hiv專案\\hiv_outcome\\pivot_table_全部個案.xlsx')\n",
    "worksheet = workbook.Worksheets[0]\n",
    "\n",
    "# 选择表格并复制到剪贴板\n",
    "table_range = worksheet.Range('A1:O24')\n",
    "table_range.Copy()\n",
    "\n",
    "# 打开PowerPoint文件\n",
    "powerpoint = win32com.client.Dispatch('PowerPoint.Application')\n",
    "presentation = powerpoint.Presentations.Open(r'D:\\Users\\mik986407\\python_code\\hiv專案\\hiv_outcome\\112-04組務會議.pptx')\n",
    "slide = presentation.Slides.Add(1, 11)\n",
    "\n",
    "# 将表格粘贴到PowerPoint幻灯片\n",
    "table_shape = slide.Shapes.Paste()\n",
    "table_shape.Left = 50\n",
    "table_shape.Top = 100\n",
    "\n",
    "# 保存并关闭文件\n",
    "presentation.Save()\n",
    "presentation.Close()\n",
    "excel.Quit()"
   ]
  }
 ],
 "metadata": {
  "kernelspec": {
   "display_name": "Python 3 (ipykernel)",
   "language": "python",
   "name": "python3"
  },
  "language_info": {
   "codemirror_mode": {
    "name": "ipython",
    "version": 3
   },
   "file_extension": ".py",
   "mimetype": "text/x-python",
   "name": "python",
   "nbconvert_exporter": "python",
   "pygments_lexer": "ipython3",
   "version": "3.9.13"
  }
 },
 "nbformat": 4,
 "nbformat_minor": 5
}
