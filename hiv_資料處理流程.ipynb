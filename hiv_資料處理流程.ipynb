{
 "cells": [
  {
   "cell_type": "code",
   "execution_count": 1,
   "id": "77043793",
   "metadata": {},
   "outputs": [
    {
     "name": "stdout",
     "output_type": "stream",
     "text": [
      "程式運行時間： 24.20951247215271 秒\n"
     ]
    }
   ],
   "source": [
    "import os, time\n",
    "start_time = time.time()\n",
    "os.chdir(r'C:\\Users\\mik986407\\python_code\\hiv專案')\n",
    "os.system('python hiv爬蟲_new.py > hiv爬蟲_output.txt')\n",
    "os.system('python hiv_資料處理.py > hiv_資料處理_output.txt')\n",
    "end_time = time.time()\n",
    "run_time = end_time - start_time\n",
    "print(\"程式運行時間：\", run_time, \"秒\")"
   ]
  },
  {
   "cell_type": "code",
   "execution_count": 1,
   "id": "34f8e7c0",
   "metadata": {},
   "outputs": [
    {
     "data": {
      "text/plain": [
       "1"
      ]
     },
     "execution_count": 1,
     "metadata": {},
     "output_type": "execute_result"
    }
   ],
   "source": [
    "import os, time\n",
    "start_time = time.time()\n",
    "os.chdir(r'C:\\Users\\mik986407\\python_code\\hiv專案')\n",
    "os.system('python hiv爬蟲_new.py > hiv爬蟲_output.txt')"
   ]
  },
  {
   "cell_type": "code",
   "execution_count": null,
   "id": "7d056a78",
   "metadata": {},
   "outputs": [],
   "source": []
  }
 ],
 "metadata": {
  "kernelspec": {
   "display_name": "Python 3 (ipykernel)",
   "language": "python",
   "name": "python3"
  },
  "language_info": {
   "codemirror_mode": {
    "name": "ipython",
    "version": 3
   },
   "file_extension": ".py",
   "mimetype": "text/x-python",
   "name": "python",
   "nbconvert_exporter": "python",
   "pygments_lexer": "ipython3",
   "version": "3.10.9"
  }
 },
 "nbformat": 4,
 "nbformat_minor": 5
}
